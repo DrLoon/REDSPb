{
 "cells": [
  {
   "cell_type": "code",
   "execution_count": 1,
   "metadata": {},
   "outputs": [],
   "source": [
    "import numpy as np\n",
    "import pandas as pd\n",
    "from sklearn.preprocessing import MinMaxScaler\n",
    "from tqdm import tqdm\n",
    "import matplotlib.pyplot as plt\n",
    "# from sklearn.model_selection import train_test_split\n",
    "import psutil\n",
    "from keras.layers import Conv2D, Flatten, Dense, Conv2DTranspose, Input, Conv1D, InputLayer, BatchNormalization\n",
    "from keras.models import Model, Sequential\n",
    "# from keras.optimizers import Adam\n",
    "from redspb.form_dataset import generate_dataset\n",
    "from tensorflow.keras.optimizers.legacy import Adam"
   ]
  },
  {
   "cell_type": "code",
   "execution_count": 3,
   "metadata": {},
   "outputs": [
    {
     "name": "stdout",
     "output_type": "stream",
     "text": [
      "(816, 22539)\n",
      "(810, 22500)\n",
      "Memory size was: 0.13578683137893677 GB,  0.13578683137893677 GB\n"
     ]
    },
    {
     "name": "stderr",
     "output_type": "stream",
     "text": [
      "100%|██████████| 81/81 [00:00<00:00, 2007.14it/s]\n",
      "100%|██████████| 81/81 [00:00<00:00, 2142.23it/s]\n"
     ]
    },
    {
     "name": "stdout",
     "output_type": "stream",
     "text": [
      "Memory size X Y: 1.3524368405342102 GB,  1.3524368405342102 GB\n"
     ]
    }
   ],
   "source": [
    "df = pd.read_csv(\"/Users/aleksandrallahverdan/Downloads/part1.csv\")\n",
    "df['numbers'] = df['numbers'].map(lambda x: list(map(float, x[1:-1].split(','))))\n",
    "df['target'] = df['target'].map(lambda x: list(map(float, x.split(','))))\n",
    "X, Y, true_raw_shape = generate_dataset(df, info=True)\n",
    "del df"
   ]
  },
  {
   "cell_type": "code",
   "execution_count": 6,
   "metadata": {},
   "outputs": [
    {
     "name": "stdout",
     "output_type": "stream",
     "text": [
      "(108912, 10, 100)\n",
      "(72609, 10, 100)\n",
      "(108912, 10, 100)\n",
      "(72609, 10, 100)\n"
     ]
    }
   ],
   "source": [
    "def train_test_split(X, Y, test_size=0.2):\n",
    "    assert 0 < test_size < 1\n",
    "    n = int(X.shape[0] * (1-test_size))\n",
    "    return X[:n], X[n:], Y[:n], Y[n:]\n",
    "\n",
    "x_train,x_test,y_train,y_test=train_test_split(X,Y,test_size=0.4)\n",
    "print(x_train.shape)\n",
    "print(x_test.shape)\n",
    "print(y_train.shape)\n",
    "print(y_test.shape)"
   ]
  },
  {
   "cell_type": "code",
   "execution_count": 7,
   "metadata": {},
   "outputs": [],
   "source": [
    "del X\n",
    "del Y"
   ]
  },
  {
   "cell_type": "code",
   "execution_count": 14,
   "metadata": {},
   "outputs": [
    {
     "name": "stderr",
     "output_type": "stream",
     "text": [
      "/Users/aleksandrallahverdan/PycharmProjects/REDSPb/venv/lib/python3.11/site-packages/keras/src/optimizers/legacy/adam.py:118: UserWarning: The `lr` argument is deprecated, use `learning_rate` instead.\n",
      "  super().__init__(name, **kwargs)\n"
     ]
    },
    {
     "name": "stdout",
     "output_type": "stream",
     "text": [
      "Epoch 1/3\n",
      "171/171 [==============================] - 53s 311ms/step - loss: 0.0565 - val_loss: 0.0608\n",
      "Epoch 2/3\n",
      "171/171 [==============================] - 53s 310ms/step - loss: 0.0498 - val_loss: 0.0574\n",
      "Epoch 3/3\n",
      "171/171 [==============================] - 53s 309ms/step - loss: 0.0489 - val_loss: 0.0530\n",
      "2270/2270 [==============================] - 13s 6ms/step\n"
     ]
    }
   ],
   "source": [
    "# Архитектура сети\n",
    "input_shape = (10, 100, 1)\n",
    "inputs = Input(shape=input_shape)\n",
    "x = Conv2D(32, kernel_size=(3, 3), activation='relu', padding='same')(inputs)\n",
    "x = BatchNormalization()(x)\n",
    "x = Conv2D(64, kernel_size=(3, 3), activation='relu', padding='same')(x)\n",
    "outputs = Conv2D(1, kernel_size=(3, 3), activation='linear', padding='same')(x)\n",
    "\n",
    "model = Model(inputs=inputs, outputs=outputs)\n",
    "model.compile(loss='mean_squared_error', optimizer=Adam(lr=0.001))\n",
    "model.fit(x_train, y_train, batch_size=512, epochs=3, validation_split=0.2)\n",
    "\n",
    "predicted_Y = model.predict(x_test)"
   ]
  },
  {
   "cell_type": "code",
   "execution_count": 28,
   "metadata": {},
   "outputs": [],
   "source": [
    "def reconstruct_matrix_super(matrix_target_shape, y, n=10, step_n=10, step_m=10):\n",
    "    res = []\n",
    "    i = 0\n",
    "    while len(y) > matrix_target_shape[1]*(i+1):\n",
    "        layer = y[matrix_target_shape[1]*i:matrix_target_shape[1]*(i+1):step_m]\n",
    "        layer = np.concatenate(layer, axis=1)\n",
    "        res.append(layer)\n",
    "        i += n // step_n\n",
    "    res = np.concatenate(res, axis=0)\n",
    "    return res\n"
   ]
  },
  {
   "cell_type": "code",
   "execution_count": 29,
   "metadata": {},
   "outputs": [
    {
     "data": {
      "text/plain": [
       "(320, 22500)"
      ]
     },
     "execution_count": 29,
     "metadata": {},
     "output_type": "execute_result"
    }
   ],
   "source": [
    "rec1 = reconstruct_matrix_super(true_raw_shape, y_test)\n",
    "rec2 = reconstruct_matrix_super(true_raw_shape, predicted_Y)\n",
    "\n",
    "rec1.shape"
   ]
  },
  {
   "cell_type": "code",
   "execution_count": 30,
   "metadata": {},
   "outputs": [
    {
     "data": {
      "image/png": "[encoded data removed]",
      "text/plain": [
       "<Figure size 640x480 with 1 Axes>"
      ]
     },
     "metadata": {},
     "output_type": "display_data"
    }
   ],
   "source": [
    "plt.imshow(rec1, cmap='viridis')\n",
    "plt.show()"
   ]
  },
  {
   "cell_type": "code",
   "execution_count": 31,
   "metadata": {},
   "outputs": [
    {
     "data": {
      "image/png": "[encoded data removed]",
      "text/plain": [
       "<Figure size 640x480 with 1 Axes>"
      ]
     },
     "metadata": {},
     "output_type": "display_data"
    }
   ],
   "source": [
    "plt.imshow(rec2, cmap='viridis')\n",
    "plt.show()"
   ]
  }
 ],
 "metadata": {
  "kernelspec": {
   "display_name": "Python 3",
   "language": "python",
   "name": "python3"
  },
  "language_info": {
   "codemirror_mode": {
    "name": "ipython",
    "version": 3
   },
   "file_extension": ".py",
   "mimetype": "text/x-python",
   "name": "python",
   "nbconvert_exporter": "python",
   "pygments_lexer": "ipython3",
   "version": "3.11.5"
  }
 },
 "nbformat": 4,
 "nbformat_minor": 2
}
